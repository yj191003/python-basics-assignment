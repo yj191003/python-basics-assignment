{
  "nbformat": 4,
  "nbformat_minor": 0,
  "metadata": {
    "colab": {
      "provenance": []
    },
    "kernelspec": {
      "name": "python3",
      "display_name": "Python 3"
    },
    "language_info": {
      "name": "python"
    }
  },
  "cells": [
    {
      "cell_type": "code",
      "execution_count": null,
      "metadata": {
        "id": "KjJb93B9Xde8"
      },
      "outputs": [],
      "source": [
        "# 1) what is python and why it is popular ??\n",
        "# ANS: Python is a high-level, interpreted programming language that is widely used for its simplicity and versatility. It was created by Guido van Rossum and first released in 1991. Python is known for its clean and readable syntax, making it an ideal choice for beginners and experienced developers alike.\n",
        "# easy to learn,versatile,large standard liberay,community support,cross platform compatibilty"
      ]
    },
    {
      "cell_type": "code",
      "source": [
        "# 2) what is interpreter in python ??\n",
        "# ANS: in Python, an interpreter is a program that executes Python code directly, line by line. Unlike a compiler, which translates the entire source code into machine code at once, an interpreter reads and executes the code one statement at a time. This means that you can write and test code interactively without needing to compile it beforehand.\n"
      ],
      "metadata": {
        "id": "mJBze71qZL6g"
      },
      "execution_count": null,
      "outputs": []
    },
    {
      "cell_type": "code",
      "source": [
        "# 3) what are predefined keywords in python ??\n",
        "# ANS: In Python, keywords are reserved words that have a special meaning and cannot be used as identifiers (like variable names, function names, etc.). These keywords are part of the Python language syntax and are used to define the structure and flow of the program.\n",
        "# alse      await      else      import    pass\n",
        "# None       break      except    in        raise\n",
        "# True       class      finally   is        return\n",
        "# and        continue   for       lambda    try\n",
        "# as         def        from      nonlocal  while\n",
        "# assert     del        global    not       with\n",
        "# async      elif       if        or        yield\n",
        "# this are the predefinde keywords\n"
      ],
      "metadata": {
        "id": "3XLXIxxtZyk0"
      },
      "execution_count": null,
      "outputs": []
    },
    {
      "cell_type": "code",
      "source": [
        "# 4) can keywords be used as variable name ??\n",
        "# ANS: No, keywords in Python cannot be used as variable names.\n",
        "# Keywords are reserved words that have a special meaning in the Python language, and they are part of the syntax that defines the structure and behavior of Python programs. Since they have predefined functionality, trying to use them as variable names will result in a syntax error.\n"
      ],
      "metadata": {
        "id": "yIgD1KpFcejB"
      },
      "execution_count": null,
      "outputs": []
    },
    {
      "cell_type": "code",
      "source": [
        "# 5) what is mutability in python ??\n",
        "# ANS: Mutability in Python refers to whether or not the content or state of an object can be modified after it is created. It defines if an object can be changed in place or if any modification results in the creation of a new object.\n"
      ],
      "metadata": {
        "id": "y430HAttcxJc"
      },
      "execution_count": null,
      "outputs": []
    },
    {
      "cell_type": "code",
      "source": [
        "# 6) why are lists mutable, but tuples are immutable ??\n",
        "# ans : Lists are mutable because they are designed to store collections of items that are subject to change, which makes them more flexible but also slightly less efficient.\n",
        "# Tuples are immutable to ensure data integrity, provide performance optimizations, and allow them to be used as dictionary keys, where fixed, unchangeable data is required.\n"
      ],
      "metadata": {
        "id": "6clT1MShhpYh"
      },
      "execution_count": null,
      "outputs": []
    },
    {
      "cell_type": "code",
      "source": [
        "# 7)what is difference between \"==\" and \"is\" operatoer in python ??\n",
        "# ans: == compares values (if the values are the same).\n",
        "# is compares identity (if both references point to the exact same object in memory)."
      ],
      "metadata": {
        "id": "0N-RXmS8nwtf"
      },
      "execution_count": null,
      "outputs": []
    },
    {
      "cell_type": "code",
      "source": [
        "# 8) waht are logical operators in python ??\n",
        "# ANS : and: Both conditions must be True for the result to be True.\n",
        "# or: At least one condition must be True for the result to be True\n",
        "# not: Reverses the boolean value of a condition."
      ],
      "metadata": {
        "id": "AL4DGFwpnPyt"
      },
      "execution_count": null,
      "outputs": []
    },
    {
      "cell_type": "code",
      "source": [
        "# 9) what is type casting in python ??\n",
        "# ans: Type casting in Python refers to the process of converting one data type into another. Python provides several functions to convert data from one type to another, which can be useful when performing operations that require a specific data type.\n",
        "# there are two types of type casting\n",
        "# A) Implicit Type Casting\n",
        "# B) Implicit Type Casting"
      ],
      "metadata": {
        "id": "9OHsQbCCokAU"
      },
      "execution_count": null,
      "outputs": []
    },
    {
      "cell_type": "code",
      "source": [
        "# 10) what is difference between implicit and explicit type casting ?\n",
        "# ans: Types of Type Casting in Python:\n",
        "# Implicit Type Casting (Type Coercion):\n",
        "# This is done automatically by Python when it converts one data type to another. For example, when you mix an int and a float, Python automatically converts the int to a float before performing operations.\n",
        "# Explicit Type Casting (Type Conversion):\n",
        "# This involves manually converting from one data type to another using Python's built-in functions."
      ],
      "metadata": {
        "id": "mm9c6A_2pwb5"
      },
      "execution_count": null,
      "outputs": []
    },
    {
      "cell_type": "code",
      "source": [
        "# 11) what is the purpose of conditional statements in python ?\n",
        "# ans: Purpose of Conditional Statements in Python:\n",
        "# Control Flow: Conditional statements help control the flow of execution in a program. They let you specify which block of code to execute depending on a condition.\n",
        "# Decision Making: They are used to make decisions in a program. For example, you may want to execute one block of code if a user input meets certain criteria, and a different block of code if it does not.\n",
        "# Branching Logic: Conditional statements enable branching logic, which allows the program to choose between multiple alternatives based on conditions.\n"
      ],
      "metadata": {
        "id": "8eNt2s1ruXwm"
      },
      "execution_count": null,
      "outputs": []
    },
    {
      "cell_type": "code",
      "source": [
        "# 12) how does the elif statement works ?\n",
        "# ans:How elif works:\n",
        "# The elif statement is used after an if statement to check additional conditions.\n",
        "# If the condition of the if statement is False, the program will move to the next elif block and check that condition.\n",
        "# If none of the if or elif conditions are True, the else block (if present) will be executed as the final option."
      ],
      "metadata": {
        "id": "Rj3QnlB-wPNe"
      },
      "execution_count": null,
      "outputs": []
    },
    {
      "cell_type": "code",
      "source": [
        "# 13) what is difference between for and while loops ?\n",
        "# ans: n Python, both for and while loops are used to repeat a block of code multiple times, but they differ in how they control the flow of execution. Here's a detailed breakdown of the differences between for and while loops:\n"
      ],
      "metadata": {
        "id": "pubAsH45w05S"
      },
      "execution_count": null,
      "outputs": []
    },
    {
      "cell_type": "code",
      "source": [
        "# 14) describe the scenario where a while loop is more suitable than a for loop ?\n",
        "# ans: hile loop when the number of iterations is not known in advance and when the loop should continue as long as a specific condition is True. This makes it ideal for cases such as waiting for user input, monitoring changes, or retrying operations until a desired outcome is achieved.\n"
      ],
      "metadata": {
        "id": "FHcxRALBw9xZ"
      },
      "execution_count": null,
      "outputs": []
    },
    {
      "cell_type": "code",
      "source": [
        "#  practical questions"
      ],
      "metadata": {
        "id": "FMvXyRJFzoJ6"
      },
      "execution_count": null,
      "outputs": []
    },
    {
      "cell_type": "code",
      "source": [
        "# 1) write a python program to print hello world ?\n",
        "print(\"hello world\")"
      ],
      "metadata": {
        "colab": {
          "base_uri": "https://localhost:8080/"
        },
        "id": "0Xa7y6zpzue4",
        "outputId": "44c1358e-e8f3-4a49-a480-674a381a2503"
      },
      "execution_count": null,
      "outputs": [
        {
          "output_type": "stream",
          "name": "stdout",
          "text": [
            "hello world\n"
          ]
        }
      ]
    },
    {
      "cell_type": "code",
      "source": [
        "# 2)wirte a python program that displays your name and age?\n",
        "name=(\"jayyadav\")\n",
        "age=(\"22\")\n",
        "\n",
        "print(name,age)\n"
      ],
      "metadata": {
        "colab": {
          "base_uri": "https://localhost:8080/"
        },
        "id": "5SMrYZ-r0Jl9",
        "outputId": "ca333fd9-cebf-4439-a3b1-609ca0d0db7c"
      },
      "execution_count": null,
      "outputs": [
        {
          "output_type": "stream",
          "name": "stdout",
          "text": [
            "jayyadav 22\n"
          ]
        }
      ]
    },
    {
      "cell_type": "code",
      "source": [
        "# 3)Write code to print all the pre-defined keywords in Python using the keyword library?\n",
        "import keyword\n",
        "print(keyword.kwlist)"
      ],
      "metadata": {
        "id": "9qBQyy9V0zkO",
        "colab": {
          "base_uri": "https://localhost:8080/"
        },
        "outputId": "f6aeecc8-8809-410b-8cbd-95f5dcbfa775"
      },
      "execution_count": null,
      "outputs": [
        {
          "output_type": "stream",
          "name": "stdout",
          "text": [
            "['False', 'None', 'True', 'and', 'as', 'assert', 'async', 'await', 'break', 'class', 'continue', 'def', 'del', 'elif', 'else', 'except', 'finally', 'for', 'from', 'global', 'if', 'import', 'in', 'is', 'lambda', 'nonlocal', 'not', 'or', 'pass', 'raise', 'return', 'try', 'while', 'with', 'yield']\n"
          ]
        }
      ]
    },
    {
      "cell_type": "code",
      "source": [
        "# 4)Write a program that checks if a given word is a Python keyword?\n",
        "import keyword\n",
        "word = input(\"Enter a word: \")\n",
        "\n",
        "if keyword.iskeyword(word):\n",
        "    print(f\"{word} is a Python keyword.\")\n",
        "else:\n",
        "    print(f\"{word} is not a Python keyword.\")\n",
        "\n",
        "\n"
      ],
      "metadata": {
        "id": "5LN6iHmIBL8C",
        "colab": {
          "base_uri": "https://localhost:8080/"
        },
        "collapsed": true,
        "outputId": "8cabcac9-e1b4-4949-aaf7-04708824d80a"
      },
      "execution_count": null,
      "outputs": [
        {
          "output_type": "stream",
          "name": "stdout",
          "text": [
            "Enter a word: jay\n",
            "jay is not a Python keyword.\n"
          ]
        }
      ]
    },
    {
      "cell_type": "code",
      "source": [
        "#5)Create a list and tuple in Python, and demonstrate how attemptingtochangeanelement works differentlyforeach?\n",
        "# Creating a list and a tuple\n",
        "my_list = [1, 2, 3, 4]\n",
        "my_tuple = (1, 2, 3, 4)\n",
        "\n",
        "# Trying to change an element in the list (works fine)\n",
        "print(\"Original list:\", my_list)\n",
        "my_list[2] = 99  # Change element at index 2\n",
        "print(\"List after modification:\", my_list)\n",
        "\n",
        "# Trying to change an element in the tuple (will raise an error)\n",
        "print(\"Original tuple:\", my_tuple)\n",
        "try:\n",
        "    my_tuple[2] = 99  # Attempt to change element at index 2\n",
        "except TypeError as e:\n",
        "    print(f\"Error when modifying tuple: {e}\")\n"
      ],
      "metadata": {
        "colab": {
          "base_uri": "https://localhost:8080/"
        },
        "id": "QnqLYiHeDfYV",
        "outputId": "4c3c0bd5-ccc5-4167-d10b-62632219c3dc"
      },
      "execution_count": null,
      "outputs": [
        {
          "output_type": "stream",
          "name": "stdout",
          "text": [
            "Original list: [1, 2, 3, 4]\n",
            "List after modification: [1, 2, 99, 4]\n",
            "Original tuple: (1, 2, 3, 4)\n",
            "Error when modifying tuple: 'tuple' object does not support item assignment\n"
          ]
        }
      ]
    },
    {
      "cell_type": "code",
      "source": [
        "from google.colab import drive\n",
        "drive.mount('/content/drive')"
      ],
      "metadata": {
        "id": "XAEa7oSJHDM3"
      },
      "execution_count": null,
      "outputs": []
    },
    {
      "cell_type": "code",
      "source": [
        "#6) Write a function to demonstrate the behavior of mutable and immutable arguments?\n",
        "def demonstrate_mutable_immutable(mutable_arg, immutable_arg):\n",
        "    print(\"Original mutable argument:\", mutable_arg)\n",
        "    print(\"Original immutable argument:\", immutable_arg)\n",
        "\n",
        "    # Modify the mutable argument (list)\n",
        "    mutable_arg.append(100)  # Adding an element to the list\n",
        "    print(\"Modified mutable argument inside function:\", mutable_arg)\n",
        "\n",
        "    # Try to modify the immutable argument (integer)\n",
        "    immutable_arg = 200  # Reassigning the integer (this doesn't affect the original)\n",
        "    print(\"Modified immutable argument inside function:\", immutable_arg)\n",
        "\n",
        "# Create mutable and immutable arguments\n",
        "mutable_example = [1, 2, 3]\n",
        "immutable_example = 10\n",
        "\n",
        "# Call the function\n",
        "demonstrate_mutable_immutable(mutable_example, immutable_example)\n",
        "\n",
        "# Check values after the function call\n",
        "print(\"\\nAfter function call:\")\n",
        "print(\"Mutable argument outside function:\", mutable_example)  # List will be modified\n",
        "print(\"Immutable argument outside function:\", immutable_example)  # Integer will remain the same\n"
      ],
      "metadata": {
        "colab": {
          "base_uri": "https://localhost:8080/"
        },
        "collapsed": true,
        "id": "B6MdwQHGERJq",
        "outputId": "14a361ce-ddc4-46e6-a0c7-a0950c7c5615"
      },
      "execution_count": null,
      "outputs": [
        {
          "output_type": "stream",
          "name": "stdout",
          "text": [
            "Original mutable argument: [1, 2, 3]\n",
            "Original immutable argument: 10\n",
            "Modified mutable argument inside function: [1, 2, 3, 100]\n",
            "Modified immutable argument inside function: 200\n",
            "\n",
            "After function call:\n",
            "Mutable argument outside function: [1, 2, 3, 100]\n",
            "Immutable argument outside function: 10\n"
          ]
        }
      ]
    },
    {
      "cell_type": "code",
      "source": [
        "#  8) Write a program to demonstrate the use of logical operators ?\n",
        "def demonstrate_logical_operators(a, b):\n",
        "    print(f\"Conditions: a = {a}, b = {b}\")\n",
        "\n",
        "    # Using 'and' operator\n",
        "    if a > 0 and b > 0:\n",
        "        print(\"Both a and b are greater than 0 (a > 0 and b > 0) -> True\")\n",
        "    else:\n",
        "        print(\"Both a and b are not greater than 0 (a > 0 and b > 0) -> False\")\n",
        "\n",
        "    # Using 'or' operator\n",
        "    if a > 0 or b > 0:\n",
        "        print(\"At least one of a or b is greater than 0 (a > 0 or b > 0) -> True\")\n",
        "    else:\n",
        "        print(\"Neither a nor b is greater than 0 (a > 0 or b > 0) -> False\")\n",
        "\n",
        "    # Using 'not' operator\n",
        "    if not (a < 0):\n",
        "        print(\"a is not less than 0 (not a < 0) -> True\")\n",
        "    else:\n",
        "        print(\"a is less than 0 (not a < 0) -> False\")\n",
        "\n",
        "# Test with different values of a and b\n",
        "print(\"Test 1: a = 5, b = 10\")\n",
        "demonstrate_logical_operators(5, 10)\n",
        "\n",
        "print(\"\\nTest 2: a = -3, b = 4\")\n",
        "demonstrate_logical_operators(-3, 4)\n",
        "\n",
        "print(\"\\nTest 3: a = -5, b = -2\")\n",
        "demonstrate_logical_operators(-5, -2)\n"
      ],
      "metadata": {
        "colab": {
          "base_uri": "https://localhost:8080/"
        },
        "collapsed": true,
        "id": "38Q28IAAIMdr",
        "outputId": "52a2afd8-4ba0-403b-b39a-9501f11c6924"
      },
      "execution_count": null,
      "outputs": [
        {
          "output_type": "stream",
          "name": "stdout",
          "text": [
            "Test 1: a = 5, b = 10\n",
            "Conditions: a = 5, b = 10\n",
            "Both a and b are greater than 0 (a > 0 and b > 0) -> True\n",
            "At least one of a or b is greater than 0 (a > 0 or b > 0) -> True\n",
            "a is not less than 0 (not a < 0) -> True\n",
            "\n",
            "Test 2: a = -3, b = 4\n",
            "Conditions: a = -3, b = 4\n",
            "Both a and b are not greater than 0 (a > 0 and b > 0) -> False\n",
            "At least one of a or b is greater than 0 (a > 0 or b > 0) -> True\n",
            "a is less than 0 (not a < 0) -> False\n",
            "\n",
            "Test 3: a = -5, b = -2\n",
            "Conditions: a = -5, b = -2\n",
            "Both a and b are not greater than 0 (a > 0 and b > 0) -> False\n",
            "Neither a nor b is greater than 0 (a > 0 or b > 0) -> False\n",
            "a is less than 0 (not a < 0) -> False\n"
          ]
        }
      ]
    },
    {
      "cell_type": "code",
      "source": [
        "# 9) Write a Python program to convert user input from string to integer, float, and boolean types\n",
        "# Getting user input\n",
        "user_input = input(\"Enter a value: \")\n",
        "\n",
        "# Converting to integer\n",
        "try:\n",
        "    integer_value = int(user_input)\n",
        "    print(f\"Converted to integer: {integer_value}\")\n",
        "except ValueError:\n",
        "    print(\"Input is not a valid integer.\")\n",
        "\n",
        "# Converting to float\n",
        "try:\n",
        "    float_value = float(user_input)\n",
        "    print(f\"Converted to float: {float_value}\")\n",
        "except ValueError:\n",
        "    print(\"Input is not a valid float.\")\n",
        "\n",
        "# Converting to boolean\n",
        "# In Python, an empty string or '0' is considered False; all other values are considered True.\n",
        "if user_input.lower() in ['true', '1', 't', 'y', 'yes']:\n",
        "    boolean_value = True\n",
        "else:\n",
        "    boolean_value = False\n",
        "print(f\"Converted to boolean: {boolean_value}\")\n"
      ],
      "metadata": {
        "id": "aU1OAQSSIfO2"
      },
      "execution_count": null,
      "outputs": []
    },
    {
      "cell_type": "code",
      "source": [
        "# 10) Write code to demonstrate type casting with list elements?\n",
        "# Sample list with elements as strings\n",
        "string_list = [\"10\", \"20\", \"30.5\", \"True\", \"5\"]\n",
        "\n",
        "print(\"Original List:\", string_list)\n",
        "\n",
        "# Converting all string elements to integers (where possible)\n",
        "int_list = []\n",
        "for item in string_list:\n",
        "    try:\n",
        "        int_list.append(int(float(item)))  # First convert to float, then to int\n",
        "    except ValueError:\n",
        "        int_list.append(None)  # Append None if the conversion is not possible\n",
        "\n",
        "print(\"\\nList after converting to integers:\", int_list)\n",
        "\n",
        "# Converting all string elements to floats (where possible)\n",
        "float_list = []\n",
        "for item in string_list:\n",
        "    try:\n",
        "        float_list.append(float(item))\n",
        "    except ValueError:\n",
        "        float_list.append(None)  # Append None if the conversion is not possible\n",
        "\n",
        "print(\"\\nList after converting to floats:\", float_list)\n",
        "\n",
        "# Converting all string elements to boolean (using string values that represent True or False)\n",
        "bool_list = []\n",
        "for item in string_list:\n",
        "    if item.lower() in ['true', '1', 't', 'y', 'yes']:\n",
        "        bool_list.append(True)\n",
        "    else:\n",
        "        bool_list.append(False)\n",
        "\n",
        "print(\"\\nList after converting to booleans:\", bool_list)\n"
      ],
      "metadata": {
        "id": "WZdhZ2VdIr1B"
      },
      "execution_count": null,
      "outputs": []
    },
    {
      "cell_type": "code",
      "source": [
        "# 11) Write a program that checks if a number is positive, negative, or zero ?\n",
        "# Function to check if the number is positive, negative, or zero\n",
        "def check_number(num):\n",
        "    if num > 0:\n",
        "        print(f\"{num} is a positive number.\")\n",
        "    elif num < 0:\n",
        "        print(f\"{num} is a negative number.\")\n",
        "    else:\n",
        "        print(f\"{num} is zero.\")\n",
        "\n",
        "# Taking input from the user\n",
        "try:\n",
        "    number = float(input(\"Enter a number: \"))  # Convert input to float for decimal support\n",
        "    check_number(number)  # Check the number's sign\n",
        "except ValueError:\n",
        "    print(\"Invalid input! Please enter a valid number.\")\n"
      ],
      "metadata": {
        "id": "NhGRPGoiKfrM"
      },
      "execution_count": null,
      "outputs": []
    },
    {
      "cell_type": "code",
      "source": [
        "# 12) Write a for loop to print numbers from 1 to 10 ?\n",
        "# Using a for loop to print numbers from 1 to 10\n",
        "for number in range(1, 11):\n",
        "    print(number)\n"
      ],
      "metadata": {
        "id": "kFWWoyntK_hO"
      },
      "execution_count": null,
      "outputs": []
    },
    {
      "cell_type": "code",
      "source": [
        "# 13) Write a Python program to find the sum of all even numbers between 1 and 50 ?\n",
        "# Initialize sum variable\n",
        "sum_even = 0\n",
        "\n",
        "# Loop through numbers from 1 to 50\n",
        "for number in range(1, 51):\n",
        "    if number % 2 == 0:  # Check if the number is even\n",
        "        sum_even += number  # Add the even number to the sum\n",
        "\n",
        "# Print the result\n",
        "print(\"Sum of all even numbers between 1 and 50:\", sum_even)\n"
      ],
      "metadata": {
        "id": "VVwHuKmjLkVN"
      },
      "execution_count": null,
      "outputs": []
    },
    {
      "cell_type": "code",
      "source": [
        "# 14)Write a program to reverse a string using a while loop\n",
        "# Function to reverse a string using a while loop\n",
        "def reverse_string(input_string):\n",
        "    reversed_string = \"\"\n",
        "    index = len(input_string) - 1  # Start from the last index of the string\n",
        "\n",
        "    # While loop to traverse the string in reverse\n",
        "    while index >= 0:\n",
        "        reversed_string += input_string[index]  # Add the character at current index to reversed_string\n",
        "        index -= 1  # Move to the previous character\n",
        "\n",
        "    return reversed_string\n",
        "\n",
        "# Get user input\n",
        "user_input = input(\"Enter a string: \")\n",
        "\n",
        "# Call the function and print the reversed string\n",
        "print(\"Reversed string:\", reverse_string(user_input))\n"
      ],
      "metadata": {
        "id": "g6G9LT9HLwtw"
      },
      "execution_count": null,
      "outputs": []
    },
    {
      "cell_type": "code",
      "source": [
        "# 15)  Write a Python program to calculate the factorial of a number provided by the user using a while loop.?\n",
        "# Function to calculate the factorial using a while loop\n",
        "def calculate_factorial(num):\n",
        "    result = 1  # Start with 1 because the factorial of 0 is 1\n",
        "\n",
        "    # While loop to calculate factorial\n",
        "    while num > 0:\n",
        "        result *= num  # Multiply result by the current number\n",
        "        num -= 1  # Decrement the number by 1\n",
        "\n",
        "    return result\n",
        "\n",
        "# Get user input\n",
        "try:\n",
        "    number = int(input(\"Enter a number to calculate its factorial: \"))\n",
        "\n",
        "    # Check if the number is a non-negative integer\n",
        "    if number < 0:\n",
        "        print(\"Factorial is not defined for negative numbers.\")\n",
        "    else:\n",
        "        # Call the function and display the result\n",
        "        print(f\"The factorial of {number} is {calculate_factorial(number)}\")\n",
        "except ValueError:\n",
        "    print(\"Invalid input! Please enter a valid integer.\")\n"
      ],
      "metadata": {
        "id": "_tUoVV21L95O"
      },
      "execution_count": null,
      "outputs": []
    }
  ]
}